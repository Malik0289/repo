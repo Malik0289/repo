{
  "metadata": {
    "language_info": {
      "codemirror_mode": {
        "name": "python",
        "version": 3
      },
      "file_extension": ".py",
      "mimetype": "text/x-python",
      "name": "python",
      "nbconvert_exporter": "python",
      "pygments_lexer": "ipython3",
      "version": "3.8"
    },
    "kernelspec": {
      "name": "python",
      "display_name": "Python (Pyodide)",
      "language": "python"
    }
  },
  "nbformat_minor": 4,
  "nbformat": 4,
  "cells": [
    {
      "cell_type": "code",
      "source": "import pandas as pd\nimport numpy as np\nflights = pd.read_csv(\"/Users/malik/Desktop/Project1.csv\")\nflights",
      "metadata": {
        "trusted": true
      },
      "execution_count": 6,
      "outputs": []
    },
    {
      "cell_type": "markdown",
      "source": "Making a copy to safeguard the original",
      "metadata": {}
    },
    {
      "cell_type": "code",
      "source": "flights_copy = flights.copy()",
      "metadata": {},
      "execution_count": null,
      "outputs": []
    },
    {
      "cell_type": "markdown",
      "source": "Getting the total number of flights for each Airline/City",
      "metadata": {}
    },
    {
      "cell_type": "code",
      "source": "flights_copy['Total'] = flights_copy.sum(axis= 1)\nflights_copy",
      "metadata": {},
      "execution_count": null,
      "outputs": []
    },
    {
      "cell_type": "markdown",
      "source": "Finding the percentage of delayed flights for each airline to each city",
      "metadata": {}
    },
    {
      "cell_type": "code",
      "source": "flights_copy['Percent_Delay'] = flights_copy['Delayed'].div(flights_copy.Total, axis = 0)\nflights_copy",
      "metadata": {},
      "execution_count": null,
      "outputs": []
    },
    {
      "cell_type": "markdown",
      "source": "Sorting by the smallest ratio of delays, to know which Airline and which city have the best management",
      "metadata": {}
    },
    {
      "cell_type": "code",
      "source": "flights_copy.sort_values(by = 'Percent_Delay')",
      "metadata": {},
      "execution_count": null,
      "outputs": []
    },
    {
      "cell_type": "markdown",
      "source": "Result: The best airline option is ALASKA, with a 5.1% chance of getting delayed, and the best city is Phoenix, with both airlines coming in with less than 10% chance of a delay",
      "metadata": {}
    }
  ]
}