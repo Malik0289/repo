{
  "metadata": {
    "language_info": {
      "codemirror_mode": {
        "name": "python",
        "version": 3
      },
      "file_extension": ".py",
      "mimetype": "text/x-python",
      "name": "python",
      "nbconvert_exporter": "python",
      "pygments_lexer": "ipython3",
      "version": "3.8"
    },
    "kernelspec": {
      "name": "python",
      "display_name": "Python (Pyodide)",
      "language": "python"
    }
  },
  "nbformat_minor": 4,
  "nbformat": 4,
  "cells": [
    {
      "cell_type": "code",
      "source": "# IS362 Week 5 Assignment\n# Ahmad Malik, 09/25/2022",
      "metadata": {},
      "execution_count": null,
      "outputs": []
    },
    {
      "cell_type": "markdown",
      "source": "1. What is the northernmost airport in the United States?\n2. What is the easternmost airport in the United States?\n3. On February 12th, 2013, which New York area airport had the windiest weather?",
      "metadata": {}
    },
    {
      "cell_type": "markdown",
      "source": "Importing pandas, Numpy and .csv files. Making copies for safekeeping",
      "metadata": {}
    },
    {
      "cell_type": "code",
      "source": "import pandas as pd\nimport numpy as np\nairports = pd.read_csv(\"C:/Users/malik/Desktop/airports.csv\")\nweather = pd.read_csv(\"C:/Users/malik/Desktop/weather.csv\")\nairports_copy = airports.copy()\nweather_copy = weather.copy()",
      "metadata": {},
      "execution_count": null,
      "outputs": []
    },
    {
      "cell_type": "markdown",
      "source": "As latitude is north/south (y) and longitude is east/west (x), we will need to find the highest y to get northmost, and, and the highest x to to get the eastmost ",
      "metadata": {}
    },
    {
      "cell_type": "code",
      "source": "northernmost = airports_copy.sort_values(by = 'lat', ascending=False)\n#northernmost[northernmost.tzone.notnull()] nOpE\nnorthernmost = northernmost[northernmost.tzone != '\\\\N']\nnorthernmost.head(1)",
      "metadata": {},
      "execution_count": null,
      "outputs": []
    },
    {
      "cell_type": "markdown",
      "source": "Wiley Post Will Rogers Memorial Airport in Anchorage, Alaska is the northernmost airport in the United States.",
      "metadata": {}
    },
    {
      "cell_type": "code",
      "source": "easternmost = airports_copy.sort_values(by = 'lon', ascending=False)\neasternmost.head(1)",
      "metadata": {},
      "execution_count": null,
      "outputs": []
    },
    {
      "cell_type": "markdown",
      "source": "Eareckson Air Station in Aleutians West, Alaska is the easternmost airport in the United States.",
      "metadata": {}
    },
    {
      "cell_type": "markdown",
      "source": "Filtering by the date, Feb 12th 2013",
      "metadata": {}
    },
    {
      "cell_type": "code",
      "source": "mydate = weather_copy.query(\"month == 2 and day == 12\")",
      "metadata": {},
      "execution_count": null,
      "outputs": []
    },
    {
      "cell_type": "markdown",
      "source": "Filtering by the wind speed to find the windiest location on Feb 12th",
      "metadata": {}
    },
    {
      "cell_type": "code",
      "source": "mydate.sort_values(by = 'wind_speed')\nwinds = mydate.tail()\nwinds.sort_values(by = 'wind_speed', ascending = False)\nwinds.head(1)",
      "metadata": {},
      "execution_count": null,
      "outputs": []
    },
    {
      "cell_type": "markdown",
      "source": "The New York airport with the windiest weather on February 12th, 2013, was LGA. At hour 19:00 the wind speeds at LGA were up at 20.7.",
      "metadata": {}
    }
  ]
}