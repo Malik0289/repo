{
  "metadata": {
    "language_info": {
      "codemirror_mode": {
        "name": "python",
        "version": 3
      },
      "file_extension": ".py",
      "mimetype": "text/x-python",
      "name": "python",
      "nbconvert_exporter": "python",
      "pygments_lexer": "ipython3",
      "version": "3.8"
    },
    "kernelspec": {
      "name": "python",
      "display_name": "Python (Pyodide)",
      "language": "python"
    }
  },
  "nbformat_minor": 4,
  "nbformat": 4,
  "cells": [
    {
      "cell_type": "code",
      "source": "# IS362 Project 4\n# Ahmad Malik, 11/27/2022",
      "metadata": {},
      "execution_count": null,
      "outputs": []
    },
    {
      "cell_type": "markdown",
      "source": "Let's start by importing necessary things first",
      "metadata": {}
    },
    {
      "cell_type": "code",
      "source": "import pandas as pd\nimport numpy as np\nfrom matplotlib import pyplot as plt\nfrom sklearn import datasets, linear_model\nfrom sklearn.metrics import mean_squared_error, r2_score\nfrom sklearn import metrics\nfrom sklearn.cross_validation import train_test_split\nfrom sklearn.linear_model import LinearRegression",
      "metadata": {},
      "execution_count": null,
      "outputs": []
    },
    {
      "cell_type": "code",
      "source": "Recreate Data",
      "metadata": {},
      "execution_count": null,
      "outputs": []
    },
    {
      "cell_type": "code",
      "source": "mushrooms=pd.read_csv(\"C:/Users/amalik/Desktop/Mushrooms.csv\", header=None, usecols=[0,5,20])\ndf = mushrooms.copy()\ndf.columns = ['poison', 'odor', 'spore_color']\ndf['poison'].replace({'p':1,'e':0},inplace=True)\ndf['odor'].replace({'a':0,'l':1,'c':2,'y':3,'f':4,'m':5,'n':6,'p':7,'s':8},inplace=True)\ndf['spore_color'].replace({'k':0,'n':1,'b':2,'h':3,'r':4,'o':5,'u':6,'w':7,'y':8},inplace=True)\ndf1 = pd.DataFrame()\ndf2 = pd.DataFrame()\ndf3 = pd.DataFrame()\ndf1['odor_count']=df['odor'].value_counts()\ndf2['poison_count']=df['poison'].value_counts() #not a column I chose, so excluding it\ndf3['sc_count']=df['spore_color'].value_counts()\ndf1['odor_perc']= df1['odor_count']/df1['odor_count'].sum()\ndf2['poison_perc']= df2['poison_count']/df2['poison_count'].sum()\ndf3['sc_perc']= df3['sc_count']/df3['sc_count'].sum()\n#df.head(10) #test if it works",
      "metadata": {},
      "execution_count": null,
      "outputs": []
    },
    {
      "cell_type": "markdown",
      "source": "Now let's make them all 0s and 1s, test if it works and then merge it together.",
      "metadata": {}
    },
    {
      "cell_type": "code",
      "source": "odor_dummies = pd.get_dummies(df['odor'])\ncolor_dummies = pd.get_dummies(df['spore_color'])\n###### check if it works ######\n#print(odor_dummies.head(10))  \n#print('-----------------------------')\n#print(color_dummies.head(10))",
      "metadata": {},
      "execution_count": null,
      "outputs": []
    },
    {
      "cell_type": "markdown",
      "source": "Let's merge things together, increase dimension, get values for the two columns chosen then get coeficcient, msd and variance score.",
      "metadata": {}
    },
    {
      "cell_type": "code",
      "source": "shrooms = pd.concat([df, odor_dummies, color_dummies], axis = 1)\n#shrooms.head(10) #check if it works\nx = shrooms.values[:, np.newaxis, 2] #increase dimension +1\nx_head = x[:10]\nx_tail = x[-10:]\ny_head = shrooms.poison[:10]\ny_tail = shrooms.poison[-10:]\n\nregression = linear_model.LinearRegression()\nregression.fit(x_head, y_head)\npred = regr.predict(x_tail)\n\nmultiply_by = regression.coef_ #multiply it by this\nv_score = r2_score(y_tail, pred) #the closer to 1, the better\nmsd = mean_squared_error(y_tail, pred) #mean standard deviation, closer to 0 is better (helps with best fit line)\n\nprint(multiply_by)\nprint(msd)\nprint(v_score)",
      "metadata": {},
      "execution_count": null,
      "outputs": []
    },
    {
      "cell_type": "code",
      "source": "#odor and toxicity\nplt.scatter(x_tail, y_tail)\nplt.plot(x_tail, pred)\nplt.xticks()\nplt.yticks()\nplt.show()",
      "metadata": {},
      "execution_count": null,
      "outputs": []
    },
    {
      "cell_type": "markdown",
      "source": "We can see that the line is tilted, and if we were to draw vertical lines throughout its length, it'd pass through only once, making it linear. Therefore, there's something going on between odor and toxicity. Don't eat smelly mushrooms if you don't know what they are.",
      "metadata": {}
    },
    {
      "cell_type": "markdown",
      "source": "Next is versus spore color.",
      "metadata": {}
    },
    {
      "cell_type": "code",
      "source": "xsecond = shrooms.values[:, np.newaxis, 3]\nxsecond_head = xsecond[:10]\nxsecond_tail = xsecond[-10:]\nysecond_head = shrooms.poison[:10]\nysecond_tail = shrooms.poison[-10:]\nplt.scatter(xsecond_tail, ysecond_tail)\nplt.plot(xsecond_tail, pred)\n\nplt.xticks()\nplt.yticks()\nplt.show()",
      "metadata": {},
      "execution_count": null,
      "outputs": []
    },
    {
      "cell_type": "markdown",
      "source": "This shows a perfectly straight vertical line, and if we were to draw a line through it, it would pass through it an infinite amount of times, making it not linear. This means, we don't know if spore colors can predict if we should eat mushrooms with a wide variety of spore colors unless we know exactly what they are.",
      "metadata": {}
    },
    {
      "cell_type": "markdown",
      "source": "In conclusion, Odor can tell us to a higher degree whether a mushroom can be poisonous. However, we cannot say the same for spore colors, and it would be much harder to predict if they're toxic or not. The best thing we can do regarding these fungi is - either study them until we know them inside out, or stick to store-bought ones; mushroom poisoning is not a friendly thing to experience.",
      "metadata": {}
    }
  ]
}