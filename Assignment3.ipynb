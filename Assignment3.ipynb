{
  "metadata": {
    "language_info": {
      "codemirror_mode": {
        "name": "python",
        "version": 3
      },
      "file_extension": ".py",
      "mimetype": "text/x-python",
      "name": "python",
      "nbconvert_exporter": "python",
      "pygments_lexer": "ipython3",
      "version": "3.8"
    },
    "kernelspec": {
      "name": "python",
      "display_name": "Python (Pyodide)",
      "language": "python"
    }
  },
  "nbformat_minor": 4,
  "nbformat": 4,
  "cells": [
    {
      "cell_type": "code",
      "source": "# IS362 Week 3 Assignment\n# Ahmad Malik, 09/11/2022",
      "metadata": {
        "trusted": true
      },
      "execution_count": 1,
      "outputs": []
    },
    {
      "cell_type": "code",
      "source": "import numpy as num\nimport pandas as pan",
      "metadata": {
        "trusted": true
      },
      "execution_count": 2,
      "outputs": []
    },
    {
      "cell_type": "code",
      "source": "# According to Google Maps the trip is 1,515 miles with a total of 124 hours of biking.\n# We will be riding around 12 hours a day, a total of 10 days and approximately 150 miles/day.",
      "metadata": {
        "trusted": true
      },
      "execution_count": 3,
      "outputs": []
    },
    {
      "cell_type": "code",
      "source": "miles = pan.Series([160, 165, 155, 150, 155, 150, 160, 150, 160, 110 ],\n                   index = ['Day1', 'Day2', 'Day3', 'Day4', 'Day5', 'Day6', 'Day7', 'Day8', 'Day9', \"Day10\"])\n\n# numpy.cumsum returns the cumulative sum of the elements along a given axis.\ndailytotal = (miles.cumsum())\n\nprint (dailytotal)",
      "metadata": {
        "trusted": true
      },
      "execution_count": 4,
      "outputs": [
        {
          "name": "stdout",
          "text": "Day1      160\nDay2      325\nDay3      480\nDay4      630\nDay5      785\nDay6      935\nDay7     1095\nDay8     1245\nDay9     1405\nDay10    1515\ndtype: int64\n",
          "output_type": "stream"
        }
      ]
    },
    {
      "cell_type": "code",
      "source": "# Show the total miles rode each day\n# iteritems returns an iterators over the dictionary's key value pairs.",
      "metadata": {
        "trusted": true
      },
      "execution_count": 5,
      "outputs": []
    },
    {
      "cell_type": "code",
      "source": "for key, value in dailytotal.iteritems():\n    day = miles[key]\n    print (key, day)",
      "metadata": {
        "trusted": true
      },
      "execution_count": 6,
      "outputs": [
        {
          "name": "stdout",
          "text": "Day1 160\nDay2 165\nDay3 155\nDay4 150\nDay5 155\nDay6 150\nDay7 160\nDay8 150\nDay9 160\nDay10 110\n",
          "output_type": "stream"
        }
      ]
    },
    {
      "cell_type": "code",
      "source": "",
      "metadata": {},
      "execution_count": null,
      "outputs": []
    }
  ]
}