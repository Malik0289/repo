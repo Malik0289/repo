{
  "metadata": {
    "language_info": {
      "codemirror_mode": {
        "name": "python",
        "version": 3
      },
      "file_extension": ".py",
      "mimetype": "text/x-python",
      "name": "python",
      "nbconvert_exporter": "python",
      "pygments_lexer": "ipython3",
      "version": "3.8"
    },
    "kernelspec": {
      "name": "python",
      "display_name": "Python (Pyodide)",
      "language": "python"
    }
  },
  "nbformat_minor": 4,
  "nbformat": 4,
  "cells": [
    {
      "cell_type": "code",
      "source": "# IS362 Project 2\n# Ahmad Malik, 10/02/2022",
      "metadata": {},
      "execution_count": null,
      "outputs": []
    },
    {
      "cell_type": "markdown",
      "source": "The datasets I have chose are listed below:\n\n\"security\" - https://raw.githubusercontent.com/vincentarelbundock/Rdatasets/master/csv/Ecdat/HHSCyberSecurityBreaches.csv\n\"incidents\" - https://vincentarelbundock.github.io/Rdatasets/csv/Ecdat/incidents.byCountryYr.csv\n\"titanic\" - https://vincentarelbundock.github.io/Rdatasets/csv/COUNT/titanic.csv",
      "metadata": {}
    },
    {
      "cell_type": "markdown",
      "source": "First, let's import all the required things and make copies of the files we'll be using. We will work on the copies as always.",
      "metadata": {}
    },
    {
      "cell_type": "code",
      "source": "import pandas as pd\nimport numpy as np\nimport datetime as dt\n\nsecurity = pd.read_csv(\"C:/Users/amalik/Desktop/security.csv\")\nincidents = pd.read_csv(\"C:/Users/amalik/Desktop/incidents.csv\")\ntitanic = pd.read_csv(\"C:/Users/amalik/Desktop/titanic.csv\")\n\n#security_copy = security.copy()\n#incidents_copy = incidents.copy()\n#titanic_copy = titanic.copy()",
      "metadata": {},
      "execution_count": null,
      "outputs": []
    },
    {
      "cell_type": "markdown",
      "source": "First let's work on the security csv. There's a very wide column called Web.Description which makes the spreadsheet look unsightly. We will get rid of that, along with the covered entity type. Most of these are health-related anyway. We'll do that in one line instead of multiple lines. That's not pretty after all. Next, let's turn the business associate present booleans to 0s and 1s, because those values might be of more use to us in the future. Finally, we will order by the most number of individuals affected and get the top 10.",
      "metadata": {}
    },
    {
      "cell_type": "code",
      "source": "security_copy = security.copy()\ndropdesc = security_copy.drop(['Web.Description', 'Covered.Entity.Type'], axis=1)\ndropdesc.rename(columns={'Business.Associate.Present': 'Associate'}, inplace=True)\ndropdesc.Associate = dropdesc.Associate.astype(int)\ndropassociate = dropdesc.loc[~(dropdesc['Associate'] == 0)]\ndropsex = survived.drop(['SexCode'], axis=1)\ndroppedass = dropassociate.drop(['Associate'], axis=1)\nsecuritydone = droppedass.sort_values(by='Individuals.Affected', ascending=False)\nsecuritydone.head(10)",
      "metadata": {},
      "execution_count": null,
      "outputs": []
    },
    {
      "cell_type": "markdown",
      "source": "Wow! Look at the amount of individuals affected. I wouldn't want to be a part of that, ever. Due to a very simple loss, the information was lost in Virginia in 2011. Let's hope that doesn't repeat itself.",
      "metadata": {}
    },
    {
      "cell_type": "markdown",
      "source": "Next, let's work on the incidents csv. The csv is a yearly summary from the Global Terrorism Database. For this file we will be getting rid of all the rows that have 0 incidents, then we will sort by descending frequencies.",
      "metadata": {}
    },
    {
      "cell_type": "code",
      "source": "incidents_copy = incidents.copy()\nincidents_copy.loc[~(incidents_copy['Freq'] == 0)]\nsortedincidents = incidents_copy.sort_values(by='Freq', ascending=False)\nsortedincidents.head(10)",
      "metadata": {},
      "execution_count": null,
      "outputs": []
    },
    {
      "cell_type": "markdown",
      "source": "Iraq, Pakistan and Afghanistan are the countries most plagued by global terrorism. The frequency is beyond incredibly high. I hope one day all of this comes to an end and people live happily in peace and harmony.",
      "metadata": {}
    },
    {
      "cell_type": "markdown",
      "source": "Lastly, let's work on titanic. A quick scroll through the file reveals a handful of NaNs in the age. We will assume that they make the data useless to us. There's a column for the sex, and the SexCode will be irrelevant to us so we'll remove that column completely. Then, we'll get rid of anyone and everyone that didn't survive. We're only interested in the survivors. We'll assume that survivors are 1, and those that passed away are 0. Then, we'll drop that column. We'll take a glance at the top 25 to make sure it's giving us what we want, then get the average age of survivors at the end.",
      "metadata": {}
    },
    {
      "cell_type": "code",
      "source": "titanic_copy = titanic.copy()\ntitanic_copy.loc[~(titanic_copy['Survived'] == 0)]\nsurvived = titanic_copy.drop(['Survived'], axis=1)\ndropsex = survived.drop(['SexCode'], axis=1)\ntitanic_clean = dropsex.dropna(subset = ['Age'])\ntitanic_clean.head(25)",
      "metadata": {},
      "execution_count": null,
      "outputs": []
    },
    {
      "cell_type": "code",
      "source": "# Retrieving the average age of the survivors\n\nprint (titanic_clean[\"Age\"].mean())",
      "metadata": {},
      "execution_count": null,
      "outputs": []
    },
    {
      "cell_type": "markdown",
      "source": "The average age of survivors, male and female combined, is 30.39 years of age.",
      "metadata": {}
    }
  ]
}