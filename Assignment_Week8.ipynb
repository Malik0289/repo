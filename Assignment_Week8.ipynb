{
  "metadata": {
    "language_info": {
      "codemirror_mode": {
        "name": "python",
        "version": 3
      },
      "file_extension": ".py",
      "mimetype": "text/x-python",
      "name": "python",
      "nbconvert_exporter": "python",
      "pygments_lexer": "ipython3",
      "version": "3.8"
    },
    "kernelspec": {
      "name": "python",
      "display_name": "Python (Pyodide)",
      "language": "python"
    }
  },
  "nbformat_minor": 4,
  "nbformat": 4,
  "cells": [
    {
      "cell_type": "code",
      "source": "# IS362 Week 8 Assignment\n# Ahmad Malik, 10/16/2022",
      "metadata": {
        "trusted": true
      },
      "execution_count": null,
      "outputs": []
    },
    {
      "cell_type": "markdown",
      "source": "Direct link to the file:\nhttps://archive.ics.uci.edu/ml/machine-learning-databases/auto-mpg/auto-mpg.data \n\nDirect link to data set description:\nhttps://archive.ics.uci.edu/ml/machine-learning-databases/auto-mpg/auto-mpg.names",
      "metadata": {}
    },
    {
      "cell_type": "markdown",
      "source": "Let's start by importing all necessary thingies & data, then check if it looks like what you expect it to look like. Separate the columns and values so they are nice and clean.",
      "metadata": {}
    },
    {
      "cell_type": "code",
      "source": "import pandas as pd\nimport numpy as np\nfrom matplotlib import pyplot as plt\nauto_mpg=pd.read_csv('https://archive.ics.uci.edu/ml/machine-learning-databases/auto-mpg/auto-mpg.data', \n            sep = '\\s+', names = ['MPG','Cylinders','Displacement','Horsepower','Weight','Acceleration','Model Year','Origin','Car Name'])\nmpgcopy=auto_mpg.copy()\nmpgcopy.head()",
      "metadata": {
        "trusted": true
      },
      "execution_count": null,
      "outputs": []
    },
    {
      "cell_type": "markdown",
      "source": "Next, let's replace all the \"?\" in the Horse Power column, and do it in place on the copy",
      "metadata": {}
    },
    {
      "cell_type": "code",
      "source": "mpgcopy['Horsepower'].replace('?', np.NaN, inplace=True)\n#mpgcopy #check if \"?\" changed to NaNs",
      "metadata": {
        "trusted": true
      },
      "execution_count": null,
      "outputs": []
    },
    {
      "cell_type": "markdown",
      "source": "Now let's replace 1 --> USA, 2 --> Asia, and 3 --> Europe. Need to set int to str. Took a few tries, but still went through; can be seen in the first 25 rows.",
      "metadata": {}
    },
    {
      "cell_type": "code",
      "source": "derp=mpgcopy.Origin = mpgcopy.Origin.astype(str) \nmpgcopy.Origin = mpgcopy.Origin.replace({\"1\": \"USA\",\n                                        \"2\": \"Asia\",\n                                        \"3\": \"Europe\"})\nmpgcopy[15:35]                                                 ",
      "metadata": {
        "trusted": true
      },
      "execution_count": null,
      "outputs": []
    },
    {
      "cell_type": "markdown",
      "source": "Next, let's eate bar chart that shows distribution of cylinders (col 2) [??? against what?? acceleration? idk?]",
      "metadata": {}
    },
    {
      "cell_type": "code",
      "source": "from collections import Counter\ncylinlist = mpgcopy['Cylinders'].tolist()\ncylindict = Counter(cylinlist)\nplt.bar(range(len(cylindict)), list(cylindict.values()), align='center')\nplt.xticks(range(len(cylindict)), list(cylindict.keys()))\nplt.show()",
      "metadata": {
        "trusted": true
      },
      "execution_count": null,
      "outputs": []
    },
    {
      "cell_type": "markdown",
      "source": "Now, let's create scatterplot of horsepower vs weight. To clear up the NaN outliers, we use a forwardfill",
      "metadata": {}
    },
    {
      "cell_type": "code",
      "source": "mpgcopy.sort_values(by='Horsepower')\nmpgcopy.Horsepower = mpgcopy.Horsepower.astype(float)\nplt.scatter(mpgcopy['Horsepower'], mpgcopy['Weight'])\n#fig=plt.figure(figsize=(200, 500), dpi= 80, facecolor='w', edgecolor='k')\nplt.show()",
      "metadata": {},
      "execution_count": null,
      "outputs": []
    },
    {
      "cell_type": "markdown",
      "source": "\"Ask, then answer an interesting question about the distribution of one of the variables, or the relationship between two (or more!) of the variables in the “Auto MPG” dataset.\" Lets plot number of entries per country",
      "metadata": {}
    },
    {
      "cell_type": "code",
      "source": "countlist = mpgcopy['Origin'].tolist()\n#plt.bar(countlist)\ncountdict = Counter(countlist)\nplt.bar(range(len(countdict)), list(countdict.values()), align='center')\nplt.xticks(range(len(countdict)), list(countdict.keys()))\nplt.show()",
      "metadata": {},
      "execution_count": null,
      "outputs": []
    }
  ]
}