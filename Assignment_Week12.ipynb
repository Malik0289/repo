{
  "metadata": {
    "language_info": {
      "codemirror_mode": {
        "name": "python",
        "version": 3
      },
      "file_extension": ".py",
      "mimetype": "text/x-python",
      "name": "python",
      "nbconvert_exporter": "python",
      "pygments_lexer": "ipython3",
      "version": "3.8"
    },
    "kernelspec": {
      "name": "python",
      "display_name": "Python (Pyodide)",
      "language": "python"
    }
  },
  "nbformat_minor": 4,
  "nbformat": 4,
  "cells": [
    {
      "cell_type": "code",
      "source": "# IS362 Week 12 Assignment\n# Ahmad Malik, 11/20/2022",
      "metadata": {},
      "execution_count": null,
      "outputs": []
    },
    {
      "cell_type": "markdown",
      "source": "URL: https://api.nytimes.com/svc/archive/v1/2018/1.json?api-key=8318f7a3242a4e4db1b64c107b5e763b \nLet's import all required things first",
      "metadata": {}
    },
    {
      "cell_type": "code",
      "source": "import pandas as pd\nimport numpy as np\nimport json\nimport requests\nfrom urllib2 import Request, urlopen",
      "metadata": {},
      "execution_count": null,
      "outputs": []
    },
    {
      "cell_type": "code",
      "source": "response = urlopen(\"https://api.nytimes.com/svc/archive/v1/2018/1.json?api-key=8318f7a3242a4e4db1b64c107b5e763b\")\njsondata = response.read().decode('utf-8', 'replace')",
      "metadata": {},
      "execution_count": null,
      "outputs": []
    },
    {
      "cell_type": "code",
      "source": "from urllib2 import Request, urlopen\nimport json\nfrom pandas.io.json import json_normalize\n\n\nrequest=Request('https://api.nytimes.com/svc/archive/v1/2018/1.json?api-key=8318f7a3242a4e4db1b64c107b5e763b')\nresponse = urlopen(request)\nhits = response.read()\ndata = json.loads(hits)\njson_normalize(data['response'], ['docs'])",
      "metadata": {},
      "execution_count": null,
      "outputs": []
    },
    {
      "cell_type": "code",
      "source": "#r = requests.get('https://api.nytimes.com/svc/archive/v1/2018/1.json?api-key=8318f7a3242a4e4db1b64c107b5e763b')\n#x = r.json()\n##x.keys()\n#df = pd.DataFrame(x['docs'])\n#print df",
      "metadata": {},
      "execution_count": null,
      "outputs": []
    }
  ]
}