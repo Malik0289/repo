{
  "metadata": {
    "language_info": {
      "codemirror_mode": {
        "name": "python",
        "version": 3
      },
      "file_extension": ".py",
      "mimetype": "text/x-python",
      "name": "python",
      "nbconvert_exporter": "python",
      "pygments_lexer": "ipython3",
      "version": "3.8"
    },
    "kernelspec": {
      "name": "python",
      "display_name": "Python (Pyodide)",
      "language": "python"
    }
  },
  "nbformat_minor": 4,
  "nbformat": 4,
  "cells": [
    {
      "cell_type": "code",
      "source": "# IS362 Week 11 Assignment\n# Ahmad Malik, 11/13/2022",
      "metadata": {},
      "execution_count": null,
      "outputs": []
    },
    {
      "cell_type": "code",
      "source": "#import all necessary modules\n# (requests module) allows you to send HTTP requests using Python\nimport requests\n# (json module) is an interface that converts Python objects into JSON objects.\nimport json\n# (pandas module) provides ready to use high-performance data structures and data analysis tools.\nimport pandas as pan\n# (numpy module) fundamental package for scientific computing with Python.\nimport numpy as num",
      "metadata": {},
      "execution_count": null,
      "outputs": []
    },
    {
      "cell_type": "markdown",
      "source": "Task1: Sign up and get API_KEY & API_URL",
      "metadata": {}
    },
    {
      "cell_type": "code",
      "source": "API_KEY = 'lh9bN9ZYpuHO5xJpx76yCMQtUjXqCcxu'\nAPI_URL = 'https://api.nytimes.com/svc/topstories/v2/science.json?'",
      "metadata": {},
      "execution_count": null,
      "outputs": []
    },
    {
      "cell_type": "markdown",
      "source": "Task2: Get a webpage, we will use \"reqeusts.get\" and assign it to \"REQ\".",
      "metadata": {}
    },
    {
      "cell_type": "code",
      "source": "REQ = requests.get(API_URL,params = {'api-key': API_KEY})",
      "metadata": {},
      "execution_count": null,
      "outputs": []
    },
    {
      "cell_type": "markdown",
      "source": "Task2: json() method: result of taking JSON as input and parse it to produce a JavaScript object.",
      "metadata": {}
    },
    {
      "cell_type": "code",
      "source": "OUTPUT = REQ.json()",
      "metadata": {},
      "execution_count": null,
      "outputs": []
    },
    {
      "cell_type": "code",
      "source": "OUTPUT",
      "metadata": {},
      "execution_count": null,
      "outputs": []
    },
    {
      "cell_type": "markdown",
      "source": "Task3: Transform into Pandas DataFrame using \"pandas.json_normalize\" to normalize semi-structured JSON data into a flat table.",
      "metadata": {}
    },
    {
      "cell_type": "code",
      "source": "dataframe = pan.json_normalize(OUTPUT['results'])",
      "metadata": {},
      "execution_count": null,
      "outputs": []
    },
    {
      "cell_type": "markdown",
      "source": "Finally let's print out the result",
      "metadata": {}
    },
    {
      "cell_type": "code",
      "source": "dataframe",
      "metadata": {},
      "execution_count": null,
      "outputs": []
    }
  ]
}