{
  "metadata": {
    "language_info": {
      "codemirror_mode": {
        "name": "python",
        "version": 3
      },
      "file_extension": ".py",
      "mimetype": "text/x-python",
      "name": "python",
      "nbconvert_exporter": "python",
      "pygments_lexer": "ipython3",
      "version": "3.8"
    },
    "kernelspec": {
      "name": "python",
      "display_name": "Python (Pyodide)",
      "language": "python"
    }
  },
  "nbformat_minor": 4,
  "nbformat": 4,
  "cells": [
    {
      "cell_type": "code",
      "source": "# IS362 Final Project\n# Ahmad Malik, 12/11/2022",
      "metadata": {},
      "execution_count": null,
      "outputs": []
    },
    {
      "cell_type": "markdown",
      "source": "Let's start by importing all the necessary things",
      "metadata": {}
    },
    {
      "cell_type": "code",
      "source": "import pandas as pd\nimport numpy as np\nimport json\nimport requests\nimport urllib\nimport pandas.io.json\nfrom pandas.io.json import json_normalize\nfrom matplotlib import pyplot as plt",
      "metadata": {},
      "execution_count": null,
      "outputs": []
    },
    {
      "cell_type": "markdown",
      "source": "Now we need to get the data. I found DOTA 2's APIs, which has data that would yield useful results",
      "metadata": {}
    },
    {
      "cell_type": "code",
      "source": "############ ***Change hero_id in url to hero you're interested in*** ############\n############ I like hero no.30, \"Witch Doctor\"\n\n#Read the API\nurl = 'https://api.opendota.com/api/scenarios/laneRoles?hero_id=30'\nheroes = 'https://api.opendota.com/api/heroes'\n#hero_stats = 'https://api.opendota.com/api/heroStats' ### NOT USED ###\nresponse = urllib.request.urlopen(url)\nhresponse = urllib.request.urlopen(heroes)\n#hsresponse = urllib.request.urlopen(hero_stats)\nresponseText = response.read()\nhresponseText = hresponse.read()\n#hsresponseText = hsresponse.read()",
      "metadata": {},
      "execution_count": null,
      "outputs": []
    },
    {
      "cell_type": "markdown",
      "source": "Nextly we need to change it into dataframes, so that we can actually do something with it. I have hero stats data, but it's not really needed to make the graphs I want to make.",
      "metadata": {}
    },
    {
      "cell_type": "code",
      "source": "#Make Dataframes\ndata = json.loads(responseText)\nhdata = json.loads(hresponseText)",
      "metadata": {},
      "execution_count": null,
      "outputs": []
    },
    {
      "cell_type": "markdown",
      "source": "Now the data has to become usable, so we need to normalize it. Afterwards, look through the (now-legible) data, choose a hero, find its ID, and apply it to the url above. I like the witch doctor, which has the id of 30 as shown in the output below. Keep in mind, there are 120 individual heroes to choose from, and each has different statistics.",
      "metadata": {}
    },
    {
      "cell_type": "code",
      "source": "#Normalize \ndf = json_normalize(data)\nhdf = json_normalize(hdata)\n#hsdf = json_normalize(hsdata)      ### NOT USED ###\nhdf[20:35]                          #prints data about heroes\n#print(hdf[\"localized_name\"])        #prints only localized_name column\n#heroList = hdf['localized_name'].tolist()  #creates list of heroes\n#heroList                                   #prints hero names as a list",
      "metadata": {},
      "execution_count": null,
      "outputs": []
    },
    {
      "cell_type": "markdown",
      "source": "Now we need to do something cool. Since I like the witch doctor [id 30], the url looks like this: url = 'https://api.opendota.com/api/scenarios/laneRoles?hero_id=30' There are 4 lanes in each match, and you need to battle through the lanes in order to claim victory. As time progresses, your chances of winning vary, depending on what lane you're in. This data can be found in the above url, and is based on your hero's id.",
      "metadata": {}
    },
    {
      "cell_type": "markdown",
      "source": "Let's first look at what data is contained in that link:",
      "metadata": {}
    },
    {
      "cell_type": "code",
      "source": "df",
      "metadata": {},
      "execution_count": null,
      "outputs": []
    },
    {
      "cell_type": "markdown",
      "source": "There are 5 intervals of time, 4 lanes, a number of wins, and a total number of games played. This means, that for each lane, we can get a win rate % (wins/games * 100), at each time interval.",
      "metadata": {}
    },
    {
      "cell_type": "code",
      "source": "for lane in df['lane_role'].unique():\n#Define X and Y axis of line graph\n  x = (df[df.lane_role == lane]['time'])/60\n  y = ((df[df.lane_role == lane]['wins']).astype(float)/(df[df.lane_role == lane]['games']).astype(float))*100\n  print('--------------')\n  print(lane)\n  print('--------------')\n  print('Duration (minutes)')\n  print(x)\n  print('Win Rate (percentage))')\n  print(y)",
      "metadata": {},
      "execution_count": null,
      "outputs": []
    },
    {
      "cell_type": "markdown",
      "source": "As the results aren't pretty to look at, let's stick them all into a graph for easier comparison",
      "metadata": {}
    },
    {
      "cell_type": "code",
      "source": "for lane in df['lane_role'].unique():\n#Define X and Y axis of line graph\n  x = (df[df.lane_role == lane]['time'])/60\n  y = ((df[df.lane_role == lane]['wins']).astype(float)/(df[df.lane_role == lane]['games']).astype(float))*100\n  plt.plot(x, y, label=\"Lane number {}\".format(lane))\n  plt.ylim(0, 100) \n#plt.title(\"Lane number {}\".format(lane))\nplt.xlabel('Game Length (minutes)')\nplt.ylabel('Win Rate (percentage)')\nplt.legend(bbox_to_anchor=(1.05, 1), loc=2, borderaxespad=0.)\nplt.show()",
      "metadata": {},
      "execution_count": null,
      "outputs": []
    },
    {
      "cell_type": "markdown",
      "source": "In conclusion, we can see that as a witch doctor, depending on what lane you are in, and what length of time has passed, your chances of winning vary. At 30 minutes into the game you have a high chance of winning if you're in lane 4, but that drops as you get closer to the end of the game. If you start out in lane 2, and choose to remain in lane 2 throughout the game, your chances of winning slowly rise. To see other heroes' win rates, simply find their ID in hdf, apply it to the URL, and run the code again. Yayyy! \\o/",
      "metadata": {}
    }
  ]
}